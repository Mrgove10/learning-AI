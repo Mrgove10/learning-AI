{
 "cells": [
  {
   "cell_type": "markdown",
   "metadata": {},
   "source": [
    "# General Knowledge\n",
    "\n",
    "[Video Link](https://www.youtube.com/watch?v=tPYj3fFJGjk)\n",
    "\n",
    "## Intro\n",
    "\n",
    "__A.I.__ : Artificial Intelligence => automate task that are normaly donne by humans (abit too generic tho). Ai can be simple or complex, just TicTacToe is A.I. or the ghost os the pacman game.\n",
    "\n",
    "__M.L.__ : Machine Learning => Fisrt field taht figgues out the rules rather then we code them ourself. We give it the input, and the output and **the machines thinks on its own to create the roles that are needed**.\n",
    "The goals for the models is to have the best accuracy possible\n",
    "\n",
    "__N.N.__ : Neural Networks => form of machine learning that uses layers representation of data. For neural networks we often have more then 2 layers.\n",
    "\n",
    "A.I. =contains=> M.L. =contains=> N.N.\n",
    "\n",
    "(Its not modeled after the brain)\n",
    "\n",
    "## Data\n",
    "\n",
    "For example student information \n",
    "\n",
    "|student|midterm1|midterm2|final|\n",
    "|---|---|---|---|\n",
    "|1|20|80|77|\n",
    "|2|60|90|84|\n",
    "|3|40|50|38|\n",
    "\n",
    "If i know the final ans midterm1 how can I now what the midterm 2 grade will be ?\n",
    "\n",
    "This is the input info, we always have it, called **features** (in our case Midterm1 and Final)\n",
    "The output is Midterm2 , we call it the **label**\n",
    "**features => input**\n",
    "**label => output**\n",
    "\n",
    "The more data the better, we are trying to come up with roles for a dataset, so the more we have, the better. But we need data where we haev all the feature dans the labels.\n",
    "**the data needd to be correct, input and output**\n",
    "\n",
    "## Types of A.I.\n",
    "\n",
    "### Supervised learning\n",
    "\n",
    "We have some features and they corespond to some label(s). we passe the info to a modela dn later on we can pass a feature and it will give us the correct label.\n",
    "\n",
    "When we give it a feature, we lok at the label and see if it is correct and tweak it if it is not (supervising it).\n",
    "\n",
    "Most common type of learning and appicable to alot of data and algorithems\n",
    "\n",
    "**Advantage** : when there is a lot of information and output for that information\n",
    "\n",
    "### Unsupervised learning\n",
    "\n",
    "We only have features, no labels. we want the modal to come up with the labels for us. (for example dots on an x and y plane)\n",
    "We want to create a model taht can cluster theses together see diagram [here](https://youtu.be/tPYj3fFJGjk?t=1440)\n",
    "\n",
    "**Advantage** : when we have only the features\n",
    "\n",
    "### Reinforcement learning\n",
    "\n",
    "We dont have any data, we have an agent, an environment and a reward.\n",
    "\n",
    "For example  a game that can go to a flag. \n",
    "The player is the agent, the game is the environment and the reward can be for example be closer to the flag. The closer it get to the flag the more reward, the further it moves it looses reward.\n",
    "Its starts with no knowledge of the environment but it can explore on its own. The agent always wants to maximise the reward.\n",
    "\n",
    "\n"
   ]
  },
  {
   "cell_type": "markdown",
   "metadata": {},
   "source": [
    "# Intro to tensorflow\n",
    "\n",
    "Open source Machine Learning library => limits the knowledge of math you need (yay!)\n",
    "\n",
    "What we can do :\n",
    "- Image\n",
    "- langage\n",
    "- reinforcement\n",
    "- ....\n",
    "\n",
    "## How does it work ?\n",
    "\n",
    "2 main components :\n",
    "\n",
    "### Graphs\n",
    "\n",
    "TF creates a graph : variables and all\n",
    "\n",
    "### Sessions\n",
    "\n",
    "Way to execute parts or the entier graphs"
   ]
  },
  {
   "cell_type": "markdown",
   "metadata": {},
   "source": [
    "## Install Tensorflow\n",
    "\n",
    "Normal install : `pip install tensorflow`\n",
    "\n",
    "Cuda GPU install : `pip install tensorflow-gpu`"
   ]
  },
  {
   "cell_type": "markdown",
   "metadata": {},
   "source": [
    "Import tensorflow and show version"
   ]
  },
  {
   "cell_type": "code",
   "execution_count": 4,
   "metadata": {
    "tags": []
   },
   "outputs": [
    {
     "output_type": "stream",
     "name": "stdout",
     "text": "2.3.0\n"
    }
   ],
   "source": [
    "import tensorflow as tf  # now import the tensorflow module\n",
    "print(tf.__version__)  # make sure the version is 2.x"
   ]
  },
  {
   "cell_type": "markdown",
   "metadata": {},
   "source": [
    "### What is a tensor ?\n",
    "\n",
    "It is a datapoint, or a vector. \n",
    "\n",
    "Its also basicly an array of base datatypes\n",
    "\n",
    "- 1D vector : 1 numbers\n",
    "- 2D vector : 2 numbers\n",
    "- 3D vector : 3 numbers"
   ]
  },
  {
   "cell_type": "raw",
   "metadata": {},
   "source": [
    "## create a tensor\n",
    "\n",
    "What kind of information is in the tensor ? (most of the time it is numbers)"
   ]
  },
  {
   "cell_type": "markdown",
   "metadata": {},
   "source": [
    "### Creating tensors\n",
    "\n",
    "Thise have a scale of zero (also called a scalar), because it only contains one value in it"
   ]
  },
  {
   "cell_type": "code",
   "execution_count": 9,
   "metadata": {
    "tags": []
   },
   "outputs": [
    {
     "output_type": "stream",
     "name": "stdout",
     "text": "<tf.Variable 'Variable:0' shape=() dtype=int32, numpy=5343>\n<tf.Variable 'Variable:0' shape=() dtype=float32, numpy=451.445>\n<tf.Variable 'Variable:0' shape=() dtype=string, numpy=b'this is a test string'>\n"
    }
   ],
   "source": [
    "string = tf.Variable(\"this is a test string\", tf.string)\n",
    "number = tf.Variable(5343, tf.int64)\n",
    "floating = tf.Variable(451.445, tf.float64)\n",
    "\n",
    "print(number)\n",
    "print(floating)\n",
    "print(string)"
   ]
  },
  {
   "cell_type": "markdown",
   "metadata": {},
   "source": [
    "### Rank / degree : \n",
    "number of dimentions in a tensor\n",
    "\n",
    "Rank 1 is a 1 dimensions array (3 x 0)\n",
    "Rank 2 is a 2 dimention array (2 x 3)"
   ]
  },
  {
   "cell_type": "code",
   "execution_count": 12,
   "metadata": {
    "tags": []
   },
   "outputs": [
    {
     "output_type": "stream",
     "name": "stdout",
     "text": "<tf.Variable 'Variable:0' shape=(3,) dtype=string, numpy=array([b'test', b'Adrioen', b'OK'], dtype=object)>\n<tf.Variable 'Variable:0' shape=(2, 3) dtype=string, numpy=\narray([[b'test', b'Adrioen', b'OK'],\n       [b'test', b'Adrioen', b'OK']], dtype=object)>\n"
    }
   ],
   "source": [
    "r1_tensor = tf.Variable(['test','Adrioen','OK'], tf.string)\n",
    "r2_tensor = tf.Variable([['test','Adrioen','OK'],['test','Adrioen','OK']], tf.string)\n",
    "print(r1_tensor)\n",
    "print(r2_tensor)"
   ]
  },
  {
   "cell_type": "markdown",
   "metadata": {},
   "source": [
    "We can determine the rank of  atensor like this "
   ]
  },
  {
   "cell_type": "code",
   "execution_count": 16,
   "metadata": {},
   "outputs": [
    {
     "output_type": "execute_result",
     "data": {
      "text/plain": "<tf.Tensor: shape=(), dtype=int32, numpy=2>"
     },
     "metadata": {},
     "execution_count": 16
    }
   ],
   "source": [
    "tf.rank(r2_tensor)"
   ]
  },
  {
   "cell_type": "markdown",
   "metadata": {},
   "source": [
    "### Shapes of tensors"
   ]
  },
  {
   "cell_type": "code",
   "execution_count": 19,
   "metadata": {},
   "outputs": [
    {
     "output_type": "execute_result",
     "data": {
      "text/plain": "TensorShape([3])"
     },
     "metadata": {},
     "execution_count": 19
    }
   ],
   "source": [
    "r1_tensor.shape"
   ]
  },
  {
   "cell_type": "code",
   "execution_count": 20,
   "metadata": {},
   "outputs": [
    {
     "output_type": "execute_result",
     "data": {
      "text/plain": "TensorShape([2, 3])"
     },
     "metadata": {},
     "execution_count": 20
    }
   ],
   "source": [
    "r2_tensor.shape"
   ]
  },
  {
   "cell_type": "markdown",
   "metadata": {},
   "source": [
    "https://youtu.be/tPYj3fFJGjk?t=3124"
   ]
  }
 ],
 "metadata": {
  "kernelspec": {
   "display_name": "Python 3",
   "language": "python",
   "name": "python3"
  },
  "language_info": {
   "codemirror_mode": {
    "name": "ipython",
    "version": 3
   },
   "file_extension": ".py",
   "mimetype": "text/x-python",
   "name": "python",
   "nbconvert_exporter": "python",
   "pygments_lexer": "ipython3",
   "version": "3.8.2-final"
  }
 },
 "nbformat": 4,
 "nbformat_minor": 4
}